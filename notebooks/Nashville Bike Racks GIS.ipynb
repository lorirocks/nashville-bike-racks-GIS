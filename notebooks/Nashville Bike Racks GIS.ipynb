{
 "cells": [
  {
   "cell_type": "markdown",
   "metadata": {},
   "source": [
    "## Project to create two maps - marker and cluster_marker, showing each bike rack in Davidson County.\n",
    "\n",
    "- This was a practice to get markers on a map, so the following issues were not resolved:\n",
    "    - Duplicate values were not removed from the data, but several exist which appear to be duplicated by name, but not by exact lat/long coordinates (though they are very close to each other)\n",
    "    - The racks are 'Existing', 'Proposed', 'Future Artistic' (status column). All are shown in these maps with blue markers, but could be shown with three different colors.    "
   ]
  },
  {
   "cell_type": "code",
   "execution_count": 1,
   "metadata": {},
   "outputs": [],
   "source": [
    "from shapely.geometry import Point   #This is to pull Point module (could import ,Line after Point if wanted)\n",
    "import pandas as pd\n",
    "import geopandas as gpd\n",
    "import matplotlib.pyplot as plt\n",
    "import folium\n",
    "from folium.plugins import MarkerCluster\n",
    "from folium.plugins import FastMarkerCluster"
   ]
  },
  {
   "cell_type": "code",
   "execution_count": 3,
   "metadata": {
    "scrolled": false
   },
   "outputs": [
    {
     "name": "stdout",
     "output_type": "stream",
     "text": [
      "{'init': 'epsg:4326'}\n"
     ]
    },
    {
     "data": {
      "text/html": [
       "<div>\n",
       "<style scoped>\n",
       "    .dataframe tbody tr th:only-of-type {\n",
       "        vertical-align: middle;\n",
       "    }\n",
       "\n",
       "    .dataframe tbody tr th {\n",
       "        vertical-align: top;\n",
       "    }\n",
       "\n",
       "    .dataframe thead th {\n",
       "        text-align: right;\n",
       "    }\n",
       "</style>\n",
       "<table border=\"1\" class=\"dataframe\">\n",
       "  <thead>\n",
       "    <tr style=\"text-align: right;\">\n",
       "      <th></th>\n",
       "      <th>detail_loc</th>\n",
       "      <th>quantity</th>\n",
       "      <th>location</th>\n",
       "      <th>domain</th>\n",
       "      <th>idnumber</th>\n",
       "      <th>objectid</th>\n",
       "      <th>status</th>\n",
       "      <th>lon</th>\n",
       "      <th>type</th>\n",
       "      <th>data_colle</th>\n",
       "      <th>lat</th>\n",
       "      <th>capacity</th>\n",
       "      <th>geometry</th>\n",
       "    </tr>\n",
       "  </thead>\n",
       "  <tbody>\n",
       "    <tr>\n",
       "      <th>0</th>\n",
       "      <td>Hickory Hollow Mall</td>\n",
       "      <td>1</td>\n",
       "      <td>Mall</td>\n",
       "      <td>Public</td>\n",
       "      <td>113</td>\n",
       "      <td>1</td>\n",
       "      <td>Existing</td>\n",
       "      <td>-86.6554527779</td>\n",
       "      <td>Rack</td>\n",
       "      <td>Health Dept</td>\n",
       "      <td>36.0499277778</td>\n",
       "      <td>12</td>\n",
       "      <td>POINT (-86.65545 36.04993)</td>\n",
       "    </tr>\n",
       "    <tr>\n",
       "      <th>1</th>\n",
       "      <td>Stones River Greenway - Donelson/Hermitage Area</td>\n",
       "      <td>2</td>\n",
       "      <td>Greenway</td>\n",
       "      <td>Public</td>\n",
       "      <td>114</td>\n",
       "      <td>2</td>\n",
       "      <td>Existing</td>\n",
       "      <td>-86.6340625226</td>\n",
       "      <td>Rack</td>\n",
       "      <td>Health Dept</td>\n",
       "      <td>36.1852800378</td>\n",
       "      <td>4</td>\n",
       "      <td>POINT (-86.63406 36.18528)</td>\n",
       "    </tr>\n",
       "    <tr>\n",
       "      <th>2</th>\n",
       "      <td>Percy Priest Reservoir, Stones River Greenway</td>\n",
       "      <td>0</td>\n",
       "      <td>Park/Greenway</td>\n",
       "      <td>Public</td>\n",
       "      <td>256</td>\n",
       "      <td>3</td>\n",
       "      <td>Proposed</td>\n",
       "      <td>-86.6206705697</td>\n",
       "      <td>Rack</td>\n",
       "      <td>Health Dept</td>\n",
       "      <td>36.1584215986</td>\n",
       "      <td>0</td>\n",
       "      <td>POINT (-86.62067 36.15842)</td>\n",
       "    </tr>\n",
       "  </tbody>\n",
       "</table>\n",
       "</div>"
      ],
      "text/plain": [
       "                                        detail_loc quantity       location  \\\n",
       "0                              Hickory Hollow Mall        1           Mall   \n",
       "1  Stones River Greenway - Donelson/Hermitage Area        2       Greenway   \n",
       "2    Percy Priest Reservoir, Stones River Greenway        0  Park/Greenway   \n",
       "\n",
       "   domain idnumber objectid    status             lon  type   data_colle  \\\n",
       "0  Public      113        1  Existing  -86.6554527779  Rack  Health Dept   \n",
       "1  Public      114        2  Existing  -86.6340625226  Rack  Health Dept   \n",
       "2  Public      256        3  Proposed  -86.6206705697  Rack  Health Dept   \n",
       "\n",
       "             lat capacity                    geometry  \n",
       "0  36.0499277778       12  POINT (-86.65545 36.04993)  \n",
       "1  36.1852800378        4  POINT (-86.63406 36.18528)  \n",
       "2  36.1584215986        0  POINT (-86.62067 36.15842)  "
      ]
     },
     "execution_count": 3,
     "metadata": {},
     "output_type": "execute_result"
    }
   ],
   "source": [
    "# Using geopandas to read in the file\n",
    "racks = gpd.read_file('../data/Bike Racks (GIS).geojson')  #Using gpd geopandas to read in the file\n",
    "print(racks.crs)\n",
    "racks.head(3)"
   ]
  },
  {
   "cell_type": "code",
   "execution_count": 4,
   "metadata": {},
   "outputs": [
    {
     "name": "stdout",
     "output_type": "stream",
     "text": [
      "EPSG:4326\n"
     ]
    }
   ],
   "source": [
    "# Changing data type to EPSG:4326\n",
    "racks.crs = \"EPSG:4326\"\n",
    "print(racks.crs)"
   ]
  },
  {
   "cell_type": "code",
   "execution_count": 9,
   "metadata": {},
   "outputs": [
    {
     "name": "stdout",
     "output_type": "stream",
     "text": [
      "<class 'geopandas.geodataframe.GeoDataFrame'>\n",
      "Int64Index: 426 entries, 0 to 429\n",
      "Data columns (total 13 columns):\n",
      "detail_loc    426 non-null object\n",
      "quantity      426 non-null object\n",
      "location      426 non-null object\n",
      "domain        426 non-null object\n",
      "idnumber      426 non-null object\n",
      "objectid      426 non-null object\n",
      "status        426 non-null object\n",
      "lon           426 non-null float64\n",
      "type          426 non-null object\n",
      "data_colle    426 non-null object\n",
      "lat           426 non-null float64\n",
      "capacity      426 non-null object\n",
      "geometry      426 non-null geometry\n",
      "dtypes: float64(2), geometry(1), object(10)\n",
      "memory usage: 46.6+ KB\n"
     ]
    }
   ],
   "source": [
    "#Dropped the 4 rows that has NaN values in lat/lon\n",
    "#Showing .info to confirm that lon and lat are now floats and only 426 rows, \n",
    "#    with no non-null values.\n",
    "racks = racks.dropna(subset=['lat'])\n",
    "racks['lat'] = racks.lat.astype(float)\n",
    "racks['lon'] = racks.lon.astype(float)\n",
    "racks.info()"
   ]
  },
  {
   "cell_type": "code",
   "execution_count": 10,
   "metadata": {},
   "outputs": [
    {
     "name": "stdout",
     "output_type": "stream",
     "text": [
      "EPSG:4326\n"
     ]
    },
    {
     "data": {
      "text/html": [
       "<div>\n",
       "<style scoped>\n",
       "    .dataframe tbody tr th:only-of-type {\n",
       "        vertical-align: middle;\n",
       "    }\n",
       "\n",
       "    .dataframe tbody tr th {\n",
       "        vertical-align: top;\n",
       "    }\n",
       "\n",
       "    .dataframe thead th {\n",
       "        text-align: right;\n",
       "    }\n",
       "</style>\n",
       "<table border=\"1\" class=\"dataframe\">\n",
       "  <thead>\n",
       "    <tr style=\"text-align: right;\">\n",
       "      <th></th>\n",
       "      <th>detail_loc</th>\n",
       "      <th>quantity</th>\n",
       "      <th>location</th>\n",
       "      <th>domain</th>\n",
       "      <th>idnumber</th>\n",
       "      <th>objectid</th>\n",
       "      <th>status</th>\n",
       "      <th>lon</th>\n",
       "      <th>type</th>\n",
       "      <th>data_colle</th>\n",
       "      <th>lat</th>\n",
       "      <th>capacity</th>\n",
       "      <th>geometry</th>\n",
       "    </tr>\n",
       "  </thead>\n",
       "  <tbody>\n",
       "    <tr>\n",
       "      <th>0</th>\n",
       "      <td>Hickory Hollow Mall</td>\n",
       "      <td>1</td>\n",
       "      <td>Mall</td>\n",
       "      <td>Public</td>\n",
       "      <td>113</td>\n",
       "      <td>1</td>\n",
       "      <td>Existing</td>\n",
       "      <td>-86.655453</td>\n",
       "      <td>Rack</td>\n",
       "      <td>Health Dept</td>\n",
       "      <td>36.049928</td>\n",
       "      <td>12</td>\n",
       "      <td>POINT (-86.65545 36.04993)</td>\n",
       "    </tr>\n",
       "  </tbody>\n",
       "</table>\n",
       "</div>"
      ],
      "text/plain": [
       "            detail_loc quantity location  domain idnumber objectid    status  \\\n",
       "0  Hickory Hollow Mall        1     Mall  Public      113        1  Existing   \n",
       "\n",
       "         lon  type   data_colle        lat capacity  \\\n",
       "0 -86.655453  Rack  Health Dept  36.049928       12   \n",
       "\n",
       "                     geometry  \n",
       "0  POINT (-86.65545 36.04993)  "
      ]
     },
     "execution_count": 10,
     "metadata": {},
     "output_type": "execute_result"
    }
   ],
   "source": [
    "#Creating subset of Existing racks, to show via different color later. Checking file type.\n",
    "existing = racks[racks.status == 'Existing']\n",
    "print(existing.crs)\n",
    "existing.head(1)"
   ]
  },
  {
   "cell_type": "code",
   "execution_count": 11,
   "metadata": {},
   "outputs": [
    {
     "name": "stdout",
     "output_type": "stream",
     "text": [
      "EPSG:4326\n"
     ]
    },
    {
     "data": {
      "text/html": [
       "<div>\n",
       "<style scoped>\n",
       "    .dataframe tbody tr th:only-of-type {\n",
       "        vertical-align: middle;\n",
       "    }\n",
       "\n",
       "    .dataframe tbody tr th {\n",
       "        vertical-align: top;\n",
       "    }\n",
       "\n",
       "    .dataframe thead th {\n",
       "        text-align: right;\n",
       "    }\n",
       "</style>\n",
       "<table border=\"1\" class=\"dataframe\">\n",
       "  <thead>\n",
       "    <tr style=\"text-align: right;\">\n",
       "      <th></th>\n",
       "      <th>detail_loc</th>\n",
       "      <th>quantity</th>\n",
       "      <th>location</th>\n",
       "      <th>domain</th>\n",
       "      <th>idnumber</th>\n",
       "      <th>objectid</th>\n",
       "      <th>status</th>\n",
       "      <th>lon</th>\n",
       "      <th>type</th>\n",
       "      <th>data_colle</th>\n",
       "      <th>lat</th>\n",
       "      <th>capacity</th>\n",
       "      <th>geometry</th>\n",
       "    </tr>\n",
       "  </thead>\n",
       "  <tbody>\n",
       "    <tr>\n",
       "      <th>2</th>\n",
       "      <td>Percy Priest Reservoir, Stones River Greenway</td>\n",
       "      <td>0</td>\n",
       "      <td>Park/Greenway</td>\n",
       "      <td>Public</td>\n",
       "      <td>256</td>\n",
       "      <td>3</td>\n",
       "      <td>Proposed</td>\n",
       "      <td>-86.620671</td>\n",
       "      <td>Rack</td>\n",
       "      <td>Health Dept</td>\n",
       "      <td>36.158422</td>\n",
       "      <td>0</td>\n",
       "      <td>POINT (-86.62067 36.15842)</td>\n",
       "    </tr>\n",
       "  </tbody>\n",
       "</table>\n",
       "</div>"
      ],
      "text/plain": [
       "                                      detail_loc quantity       location  \\\n",
       "2  Percy Priest Reservoir, Stones River Greenway        0  Park/Greenway   \n",
       "\n",
       "   domain idnumber objectid    status        lon  type   data_colle  \\\n",
       "2  Public      256        3  Proposed -86.620671  Rack  Health Dept   \n",
       "\n",
       "         lat capacity                    geometry  \n",
       "2  36.158422        0  POINT (-86.62067 36.15842)  "
      ]
     },
     "execution_count": 11,
     "metadata": {},
     "output_type": "execute_result"
    }
   ],
   "source": [
    "#Creating subset of Existing racks, to show via different color later. Checking file type.\n",
    "proposed = racks[racks.status == 'Proposed']\n",
    "print(proposed.crs)\n",
    "proposed.head(1)"
   ]
  },
  {
   "cell_type": "code",
   "execution_count": 12,
   "metadata": {},
   "outputs": [
    {
     "name": "stdout",
     "output_type": "stream",
     "text": [
      "EPSG:4326\n"
     ]
    },
    {
     "data": {
      "text/html": [
       "<div>\n",
       "<style scoped>\n",
       "    .dataframe tbody tr th:only-of-type {\n",
       "        vertical-align: middle;\n",
       "    }\n",
       "\n",
       "    .dataframe tbody tr th {\n",
       "        vertical-align: top;\n",
       "    }\n",
       "\n",
       "    .dataframe thead th {\n",
       "        text-align: right;\n",
       "    }\n",
       "</style>\n",
       "<table border=\"1\" class=\"dataframe\">\n",
       "  <thead>\n",
       "    <tr style=\"text-align: right;\">\n",
       "      <th></th>\n",
       "      <th>detail_loc</th>\n",
       "      <th>quantity</th>\n",
       "      <th>location</th>\n",
       "      <th>domain</th>\n",
       "      <th>idnumber</th>\n",
       "      <th>objectid</th>\n",
       "      <th>status</th>\n",
       "      <th>lon</th>\n",
       "      <th>type</th>\n",
       "      <th>data_colle</th>\n",
       "      <th>lat</th>\n",
       "      <th>capacity</th>\n",
       "      <th>geometry</th>\n",
       "    </tr>\n",
       "  </thead>\n",
       "  <tbody>\n",
       "    <tr>\n",
       "      <th>9</th>\n",
       "      <td>Bus Stop; Church St at 5th Ave N, Fifth Third ...</td>\n",
       "      <td>0</td>\n",
       "      <td>Bus Stop</td>\n",
       "      <td>Public</td>\n",
       "      <td>83</td>\n",
       "      <td>10</td>\n",
       "      <td>Future Artistic</td>\n",
       "      <td>-86.779955</td>\n",
       "      <td>Rack</td>\n",
       "      <td>Health Dept</td>\n",
       "      <td>36.163372</td>\n",
       "      <td>0</td>\n",
       "      <td>POINT (-86.77995 36.16337)</td>\n",
       "    </tr>\n",
       "  </tbody>\n",
       "</table>\n",
       "</div>"
      ],
      "text/plain": [
       "                                          detail_loc quantity  location  \\\n",
       "9  Bus Stop; Church St at 5th Ave N, Fifth Third ...        0  Bus Stop   \n",
       "\n",
       "   domain idnumber objectid           status        lon  type   data_colle  \\\n",
       "9  Public       83       10  Future Artistic -86.779955  Rack  Health Dept   \n",
       "\n",
       "         lat capacity                    geometry  \n",
       "9  36.163372        0  POINT (-86.77995 36.16337)  "
      ]
     },
     "execution_count": 12,
     "metadata": {},
     "output_type": "execute_result"
    }
   ],
   "source": [
    "#Creating subset of Existing racks, to show via different color later. Checking file type.\n",
    "future_artistic = racks[racks.status == 'Future Artistic']\n",
    "print(future_artistic.crs)\n",
    "future_artistic.head(1)"
   ]
  },
  {
   "cell_type": "code",
   "execution_count": null,
   "metadata": {
    "scrolled": true
   },
   "outputs": [],
   "source": [
    "#Confirmed total 426 entries, with lat & lon both float\n",
    "# print(proposed.info())\n",
    "# print(existing.info())\n",
    "# print(future_artistic.info())"
   ]
  },
  {
   "cell_type": "code",
   "execution_count": null,
   "metadata": {},
   "outputs": [],
   "source": []
  },
  {
   "cell_type": "markdown",
   "metadata": {},
   "source": [
    "# Next:  create map with diff color maker for each of 3 df's, then add polygon of parks to map (on top of Nashville - see code from Sophia)...  DOWNLOAD PARKS a second time. Current file corrupted."
   ]
  },
  {
   "cell_type": "code",
   "execution_count": null,
   "metadata": {},
   "outputs": [],
   "source": []
  },
  {
   "cell_type": "code",
   "execution_count": null,
   "metadata": {
    "scrolled": true
   },
   "outputs": [],
   "source": [
    "map_racks = folium.Map(\n",
    "    location = [36.174465, -86.767960],    #Nashville coordinates\n",
    "    zoom_start = 12\n",
    ")\n",
    "\n",
    "for row_index, row_values in racks.iterrows():\n",
    "    loc = [row_values['lat'], row_values['lon']]\n",
    "    pop = str(row_values['detail_loc'])\n",
    "    marker = folium.Marker(\n",
    "        location = loc, \n",
    "        popup = pop) \n",
    "    \n",
    "    marker.add_to(map_racks)\n",
    "map_racks.save('../maps/map_racks.html')   #Tell it the path to save the map to (make sure we have a maps folder)\n",
    "\n",
    "#display our map\n",
    "map_racks"
   ]
  },
  {
   "cell_type": "code",
   "execution_count": null,
   "metadata": {},
   "outputs": [],
   "source": [
    "culster_map_racks = folium.Map(\n",
    "    location = [36.174465, -86.767960],    #Nashville coordinates\n",
    "    zoom_start = 12\n",
    ")\n",
    "\n",
    "#create a marker cluster, and adds it to the map.\n",
    "marker_cluster = MarkerCluster().add_to(culster_map_racks)\n",
    "\n",
    "# inside the loop add each marker to the cluster\n",
    "for row_index, row_values in racks.iterrows():\n",
    "    loc = [row_values['lat'], row_values['lon']]\n",
    "    pop = str(row_values['detail_loc'])\n",
    "    marker = folium.Marker(\n",
    "        location = loc, \n",
    "        popup = pop) \n",
    "    \n",
    "    marker.add_to(marker_cluster)\n",
    "    \n",
    "culster_map_racks.save('../maps/culster_map_racks.html')   #Tell it the path to save the map to (make sure we have a maps folder)\n",
    "\n",
    "#display our map\n",
    "culster_map_racks"
   ]
  },
  {
   "cell_type": "code",
   "execution_count": null,
   "metadata": {},
   "outputs": [],
   "source": []
  }
 ],
 "metadata": {
  "kernelspec": {
   "display_name": "Python 3",
   "language": "python",
   "name": "python3"
  },
  "language_info": {
   "codemirror_mode": {
    "name": "ipython",
    "version": 3
   },
   "file_extension": ".py",
   "mimetype": "text/x-python",
   "name": "python",
   "nbconvert_exporter": "python",
   "pygments_lexer": "ipython3",
   "version": "3.7.3"
  }
 },
 "nbformat": 4,
 "nbformat_minor": 2
}
